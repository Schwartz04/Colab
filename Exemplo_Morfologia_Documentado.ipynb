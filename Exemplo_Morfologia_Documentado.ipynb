{
  "nbformat": 4,
  "nbformat_minor": 0,
  "metadata": {
    "colab": {
      "provenance": [],
      "include_colab_link": true
    },
    "kernelspec": {
      "name": "python3",
      "display_name": "Python 3"
    },
    "language_info": {
      "name": "python"
    }
  },
  "cells": [
    {
      "cell_type": "markdown",
      "metadata": {
        "id": "view-in-github",
        "colab_type": "text"
      },
      "source": [
        "<a href=\"https://colab.research.google.com/github/Schwartz04/Colab/blob/main/Exemplo_Morfologia_Documentado.ipynb\" target=\"_parent\"><img src=\"https://colab.research.google.com/assets/colab-badge.svg\" alt=\"Open In Colab\"/></a>"
      ]
    },
    {
      "cell_type": "markdown",
      "source": [
        "Universidade do Vale do Itajaí<br>\n",
        "Escola do Mar, Ciência e Tecnologia<br>\n",
        "Professor Felipe Viel\n",
        "\n",
        "# Exemplo Morfologia\n",
        "\n",
        "### Tutoriais da OpenCV\n",
        "\n",
        "- https://docs.opencv.org/master/d9/df8/tutorial_root.html\n",
        "- https://www.geeksforgeeks.org/opencv-python-tutorial/"
      ],
      "metadata": {
        "id": "hs7F3RjrUjCH"
      }
    },
    {
      "cell_type": "code",
      "execution_count": null,
      "metadata": {
        "id": "9ieiSWN_Uh5b"
      },
      "outputs": [],
      "source": [
        "#from https://opencv-python-tutroals.readthedocs.io/en/latest/py_tutorials/py_imgproc/py_morphological_ops/py_morphological_ops.html\n",
        "import cv2\n",
        "import numpy as np\n",
        "#caso for usar o Google Colab com a OpenCV, usar a lib abaixo\n",
        "from google.colab.patches import cv2_imshow\n"
      ]
    },
    {
      "cell_type": "code",
      "source": [
        "'''\n",
        "Neste início de código está sendo utilizada o método imread para carregar as imagens desejadas.\n",
        "Este método espera dois parametros a serem passados dentro de parênteses, o primeiro é o \"filename\" ( Seria o arquivo de imagem desejado ).\n",
        "o segundo parametro seria a \"flag\" ( Ela especifica como a imagem vai ser lida pelo programa ).\n",
        "Exemplo de flag: cv2.IMREAD_GRAYSCALE -> a imagem irá aparecer de forma cinza, pois se é epecificado na flag.\n",
        "'''\n",
        "img = cv2.imread('j.png',0)\n",
        "img_opening = cv2.imread('j_ruido.png',0)\n",
        "img_closing = cv2.imread('j_furos.png',0)\n",
        "\n",
        "#img.shape para editar a Altura e a largura ( como não foi passado nenhuma, sera a própri tamanho da imagem original ).\n",
        "altura, largura = img.shape\n",
        "\n",
        "'''\n",
        "np.ones retorna um novo array, espera o tamanho e a tipo ( nesse caso seria uma array de 5x5 ou uma matriz ) .\n",
        "np.uint8 é o tipo e especifica a quantidade de bits passados, neste caso 8.\n",
        "'''\n",
        "kernel = np.ones((5,5),np.uint8)\n",
        "print(kernel)"
      ],
      "metadata": {
        "id": "8whvZbKhU03S"
      },
      "execution_count": null,
      "outputs": []
    },
    {
      "cell_type": "code",
      "source": [
        "'''\n",
        "erosion e dilation, ambos atuam na forma da imagem utilizando de operações\n",
        "\n",
        "Dilation : a operação consiste e envolver um imagem A em um kernel B, com qualquer forma ( B é um ponto âncora, usado para centralizar o kernel ),\n",
        "quando o kernel B é escaneado sob a imagem, é calculado o valor máximo de pixel sobreposto por B e substituímos o pixel da imagem na posição do ponto âncora por esse valor\n",
        "máximo. Essa operação de maximização faz com que as regiões brilhantes dentro de uma imagem aumentem.\n",
        "\n",
        "Erosion : erosion faz o mesmo que dilation, mas invez de crescer a imagem, ele faz com o minímo pixel sobreposto por B. Sendo assim uma operação de minimização,\n",
        "faz com que as partes brilhantes da imagem diminuam.\n",
        "'''\n",
        "\n",
        "erosion = cv2.erode(img,kernel,iterations = 2)\n",
        "dilation = cv2.dilate(img,kernel,iterations = 2)"
      ],
      "metadata": {
        "id": "RnKcRcjsU8VP"
      },
      "execution_count": null,
      "outputs": []
    },
    {
      "cell_type": "code",
      "source": [
        "'''\n",
        "morphologyEx : neste código os parametros utilizados são apenas: src, dst e kernel.\n",
        "src -> imagem de origem, inicializada no início deste código\n",
        "dst -> imagem de destino do mesmo tamanho e tipo da imagem de origem\n",
        "kernel -> inializado também no inicio deste código em: kernel = np.ones((5,5),np.uint8)\n",
        "\n",
        "MORPH_GRADIENT : um gradiente morfológico\n",
        "MORPH_OPEN : um operador de abertura\n",
        "MORPH_CLOSE : um operador de fechamento\n",
        "'''\n",
        "\n",
        "gradient = cv2.morphologyEx(img, cv2.MORPH_GRADIENT, kernel)\n",
        "opening = cv2.morphologyEx(img_opening, cv2.MORPH_OPEN, kernel)\n",
        "closing = cv2.morphologyEx(img_closing, cv2.MORPH_CLOSE, kernel)"
      ],
      "metadata": {
        "id": "WvTtlQWJU-tz"
      },
      "execution_count": null,
      "outputs": []
    },
    {
      "cell_type": "code",
      "source": [
        "'''\n",
        "#Caso usa com Python no próprio computador\n",
        "cv2.imshow('in', img)\n",
        "cv2.imshow('erosion_out', erosion)\n",
        "cv2.imshow('dilation_out', dilation)\n",
        "cv2.imshow('opening_out', opening)\n",
        "cv2.imshow('closing_out', closing)\n",
        "cv2.imshow('gradient_out', gradient)\n",
        "'''\n",
        "#Caso use o Google Colab\n",
        "cv2_imshow(img)\n",
        "cv2_imshow(erosion)\n",
        "cv2_imshow(dilation)\n",
        "cv2_imshow(opening)\n",
        "cv2_imshow(closing)\n",
        "cv2_imshow(gradient)"
      ],
      "metadata": {
        "id": "iMJ7o6EgVA_r"
      },
      "execution_count": null,
      "outputs": []
    }
  ]
}