{
  "nbformat": 4,
  "nbformat_minor": 0,
  "metadata": {
    "colab": {
      "provenance": [],
      "authorship_tag": "ABX9TyOwkUPvXOCYGagRFl81Hg50",
      "include_colab_link": true
    },
    "kernelspec": {
      "name": "python3",
      "display_name": "Python 3"
    },
    "language_info": {
      "name": "python"
    }
  },
  "cells": [
    {
      "cell_type": "markdown",
      "metadata": {
        "id": "view-in-github",
        "colab_type": "text"
      },
      "source": [
        "<a href=\"https://colab.research.google.com/github/Schwartz04/Colab/blob/main/Trabalho_Python.ipynb\" target=\"_parent\"><img src=\"https://colab.research.google.com/assets/colab-badge.svg\" alt=\"Open In Colab\"/></a>"
      ]
    },
    {
      "cell_type": "markdown",
      "source": [
        "1. Faça um algoritmo que leia 5 números e informe o maior deles."
      ],
      "metadata": {
        "id": "_ZS5_L130RR-"
      }
    },
    {
      "cell_type": "code",
      "execution_count": null,
      "metadata": {
        "colab": {
          "base_uri": "https://localhost:8080/"
        },
        "id": "rDCKbQwjEg6T",
        "outputId": "c2dd7670-47c5-4ace-b00d-799d692b20e7"
      },
      "outputs": [
        {
          "output_type": "stream",
          "name": "stdout",
          "text": [
            "Digite um numero: 5\n",
            "Digite um numero: 4\n",
            "Digite um numero: 3\n",
            "Digite um numero: 6\n",
            "Digite um numero: 8\n",
            "Maior numero digitado foi:  8\n"
          ]
        }
      ],
      "source": [
        "num = 0\n",
        "while(num<5):\n",
        "        numeros = int(input(\"Digite um numero: \"))\n",
        "        num += 1\n",
        "        maior = 0\n",
        "        if(numeros > maior):\n",
        "                maior = numeros\n",
        "print(\"Maior numero digitado foi: \", maior)"
      ]
    },
    {
      "cell_type": "markdown",
      "source": [
        "2. Faça um algoritmo que peça um valor e mostre na tela se ele é primo"
      ],
      "metadata": {
        "id": "dvAw2com0X8Q"
      }
    },
    {
      "cell_type": "code",
      "source": [
        "def primo(numero):\n",
        "    if numero <= 1:\n",
        "        return False\n",
        "    for i in range(2, int(numero**0.5) + 1):\n",
        "        if numero % i == 0:\n",
        "            return False\n",
        "    return True\n",
        "\n",
        "valor = int(input(\"Digite um valor: \"))\n",
        "if primo(valor):\n",
        "    print(valor, \" é um número primo.\")\n",
        "else:\n",
        "    print(valor, \" não é um número primo.\")"
      ],
      "metadata": {
        "colab": {
          "base_uri": "https://localhost:8080/"
        },
        "id": "sFxbv_bAFg3Z",
        "outputId": "989cc143-325b-49d9-ac69-48f2e6a38b3c"
      },
      "execution_count": null,
      "outputs": [
        {
          "output_type": "stream",
          "name": "stdout",
          "text": [
            "Digite um valor: 6\n",
            "6 não é um número primo.\n"
          ]
        }
      ]
    },
    {
      "cell_type": "markdown",
      "source": [
        "3. Faça um algoritmo que leia um vetor de 10 caracteres, e diga quantas consoantes foram lidas. Imprima as consoantes."
      ],
      "metadata": {
        "id": "ZX6PcBwc0Yfn"
      }
    },
    {
      "cell_type": "code",
      "source": [
        "vetor = input(\"Digite uma palavra de 10 caracteres: \")\n",
        "consoantes = \"bcdfghjklmnpqrstvwxyzBCDFGHJKLMNPQRSTVWXYZ\"\n",
        "cont = 0\n",
        "\n",
        "for char in vetor:\n",
        "    if char in consoantes:\n",
        "        cont += 1\n",
        "\n",
        "print(\"Foram lidas\", cont,\" consoantes.\")"
      ],
      "metadata": {
        "colab": {
          "base_uri": "https://localhost:8080/"
        },
        "id": "Vy6gZhJ0yo7K",
        "outputId": "74939fda-3dbf-4552-cdf3-c9334bc8c69b"
      },
      "execution_count": null,
      "outputs": [
        {
          "output_type": "stream",
          "name": "stdout",
          "text": [
            "Digite uma palavra de 10 caracteres: dez pala\n",
            "Foram lidas 4  consoantes.\n"
          ]
        }
      ]
    },
    {
      "cell_type": "markdown",
      "source": [
        "4. Faça um algoritmo que determine se uma frase é palíndromo ou não. Palíndromos são frases ou palavras que podem ser lidas, indiferentemente, da esquerda para a direita ou da direita para esquerda. Espaços e maiúsculas e minúsculas, por exemplo: “A grama é amarga” é considerado um palíndromo.\n"
      ],
      "metadata": {
        "id": "c6pmjzn20Y_O"
      }
    },
    {
      "cell_type": "code",
      "source": [
        "def palindromo(frase):\n",
        "    frase = frase.replace(\" \", \"\").lower()\n",
        "    return frase == frase[::-1]\n",
        "\n",
        "frase = input(\"Digite uma frase: \")\n",
        "if palindromo(frase):\n",
        "    print(\"A frase é um palíndromo.\")\n",
        "else:\n",
        "    print(\"A frase não é um palíndromo.\")"
      ],
      "metadata": {
        "colab": {
          "base_uri": "https://localhost:8080/"
        },
        "id": "PQC5qUcwzMVu",
        "outputId": "9fe74724-05c1-4998-9423-29beb96e787e"
      },
      "execution_count": null,
      "outputs": [
        {
          "output_type": "stream",
          "name": "stdout",
          "text": [
            "Digite uma frase: fui amanha\n",
            "A frase não é um palíndromo.\n"
          ]
        }
      ]
    },
    {
      "cell_type": "markdown",
      "source": [
        "5. Escreva um algoritmo que receba uma mensagem de texto simples e um número n de letras para deslocar na cifra. Ele deve fazer uma string criptografada com todas as letras transformadas e toda a pontuação e espaço em branco permanecendo inalterados."
      ],
      "metadata": {
        "id": "Xa3ABFAy0Zbx"
      }
    },
    {
      "cell_type": "code",
      "source": [
        "alfabeto = \"abcdefghijklmnopqrstuvwxyz\"\n",
        "\n",
        "def cifra_de_cesar(texto, deslocamento):\n",
        "    texto_criptografado = \"\"\n",
        "    for char in texto:\n",
        "        if char.isalpha():\n",
        "            indice = (alfabeto.index(char) + deslocamento) % 26\n",
        "            novo = alfabeto[indice]\n",
        "            if char.isupper():\n",
        "                novo = novo.upper()\n",
        "            texto_criptografado += novo\n",
        "        else:\n",
        "            texto_criptografado += char\n",
        "    return texto_criptografado\n",
        "\n",
        "mensagem = input(\"Digite a mensagem: \")\n",
        "deslocamento = int(input(\"Digite o número de deslocamento: \"))\n",
        "mensagem_criptografada = cifra_de_cesar(mensagem, deslocamento)\n",
        "print(f\"Mensagem criptografada: {mensagem_criptografada}\")"
      ],
      "metadata": {
        "colab": {
          "base_uri": "https://localhost:8080/"
        },
        "id": "5KUMgetszc4V",
        "outputId": "d2989606-85c1-4f72-8c04-18b782946eb6"
      },
      "execution_count": null,
      "outputs": [
        {
          "output_type": "stream",
          "name": "stdout",
          "text": [
            "Digite a mensagem: z\n",
            "Digite o número de deslocamento: 2\n",
            "Mensagem criptografada: b\n"
          ]
        }
      ]
    }
  ]
}